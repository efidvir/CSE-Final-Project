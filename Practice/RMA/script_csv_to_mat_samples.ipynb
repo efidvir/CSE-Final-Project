{
 "cells": [
  {
   "cell_type": "code",
   "execution_count": 1,
   "metadata": {},
   "outputs": [],
   "source": [
    "import numpy as np\n",
    "import scipy as sc\n",
    "from scipy import io\n",
    "import matplotlib.pyplot as plt"
   ]
  },
  {
   "cell_type": "code",
   "execution_count": 2,
   "metadata": {},
   "outputs": [],
   "source": [
    "vA = np.genfromtxt('output110820_7575.csv',delimiter=',', dtype=np.complex128)[:-1]"
   ]
  },
  {
   "cell_type": "code",
   "execution_count": 3,
   "metadata": {},
   "outputs": [
    {
     "name": "stdout",
     "output_type": "stream",
     "text": [
      "(483750,)\n",
      "(75, 75, 86)\n"
     ]
    },
    {
     "data": {
      "text/plain": [
       "(75, 75, 86)"
      ]
     },
     "execution_count": 3,
     "metadata": {},
     "output_type": "execute_result"
    }
   ],
   "source": [
    "print(vA.shape)\n",
    "vA[np.argwhere(np.isnan(vA))] = 0\n",
    "vA = np.append(vA, np.zeros(75*75*86 - vA.shape[0]))\n",
    "mat = vA\n",
    "\n",
    "mat = mat.reshape(75,75,86)\n",
    "print(mat.shape)\n",
    "#mat = mat[0:22,:,:]\n",
    "#mat = np.transpose(mat, axes=(1,2,0))\n",
    "mat.shape"
   ]
  },
  {
   "cell_type": "code",
   "execution_count": 6,
   "metadata": {},
   "outputs": [
    {
     "data": {
      "text/plain": [
       "0.9927420103843388"
      ]
     },
     "execution_count": 6,
     "metadata": {},
     "output_type": "execute_result"
    }
   ],
   "source": [
    "np.abs(vA.max())"
   ]
  },
  {
   "cell_type": "code",
   "execution_count": 7,
   "metadata": {},
   "outputs": [
    {
     "data": {
      "text/plain": [
       "(-0.0023624373134225607+0.0008581802831031382j)"
      ]
     },
     "execution_count": 7,
     "metadata": {},
     "output_type": "execute_result"
    }
   ],
   "source": [
    "mat[1,0,1]"
   ]
  },
  {
   "cell_type": "code",
   "execution_count": 8,
   "metadata": {},
   "outputs": [],
   "source": [
    "d = {'scene_512' : mat}"
   ]
  },
  {
   "cell_type": "code",
   "execution_count": 11,
   "metadata": {},
   "outputs": [],
   "source": [
    "sc.io.savemat('../scene_513_110820_7575.mat', d)"
   ]
  },
  {
   "cell_type": "code",
   "execution_count": 86,
   "metadata": {},
   "outputs": [
    {
     "data": {
      "text/plain": [
       "(array([4.7332e+05, 1.9640e+03, 5.8400e+02, 2.1020e+03, 2.3270e+03,\n",
       "        1.9070e+03, 1.0340e+03, 3.8900e+02, 1.0300e+02, 2.0000e+01]),\n",
       " array([0.        , 0.13376004, 0.26752009, 0.40128013, 0.53504018,\n",
       "        0.66880022, 0.80256027, 0.93632031, 1.07008035, 1.2038404 ,\n",
       "        1.33760044]),\n",
       " <a list of 10 Patch objects>)"
      ]
     },
     "execution_count": 86,
     "metadata": {},
     "output_type": "execute_result"
    },
    {
     "data": {
      "image/png": "[encoded data removed]",
      "text/plain": [
       "<Figure size 432x288 with 1 Axes>"
      ]
     },
     "metadata": {
      "needs_background": "light"
     },
     "output_type": "display_data"
    }
   ],
   "source": [
    "plt.hist(np.abs(vA))"
   ]
  },
  {
   "cell_type": "code",
   "execution_count": null,
   "metadata": {},
   "outputs": [],
   "source": []
  }
 ],
 "metadata": {
  "kernelspec": {
   "display_name": "Python 3",
   "language": "python",
   "name": "python3"
  },
  "language_info": {
   "codemirror_mode": {
    "name": "ipython",
    "version": 3
   },
   "file_extension": ".py",
   "mimetype": "text/x-python",
   "name": "python",
   "nbconvert_exporter": "python",
   "pygments_lexer": "ipython3",
   "version": "3.8.2"
  }
 },
 "nbformat": 4,
 "nbformat_minor": 4
}
