{
 "cells": [
  {
   "cell_type": "code",
   "execution_count": 2,
   "metadata": {},
   "outputs": [],
   "source": [
    "import numpy as np\n",
    "import scipy as sc\n",
    "from scipy import io\n",
    "import cv2 as cv"
   ]
  },
  {
   "cell_type": "code",
   "execution_count": 3,
   "metadata": {},
   "outputs": [],
   "source": [
    "img = cv.imread('paper.bmp')"
   ]
  },
  {
   "cell_type": "code",
   "execution_count": 4,
   "metadata": {},
   "outputs": [],
   "source": [
    "img = 255 - cv.cvtColor(img, cv.COLOR_BGR2GRAY).astype('float32')"
   ]
  },
  {
   "cell_type": "code",
   "execution_count": 5,
   "metadata": {},
   "outputs": [],
   "source": [
    "Nx, Ny = (64,64)\n",
    "N      = 64\n",
    "c = np.float32(299792458)\n",
    "Df = 2e9 / N\n",
    "f0 = 10e9\n",
    "Dx = 0.012\n",
    "Dy = 0.012\n",
    "Z1 = 1\n",
    "\n",
    "_x = 0\n",
    "_y = 0\n",
    "_z = 0"
   ]
  },
  {
   "cell_type": "code",
   "execution_count": 6,
   "metadata": {},
   "outputs": [
    {
     "data": {
      "text/plain": [
       "31250000.0"
      ]
     },
     "execution_count": 6,
     "metadata": {},
     "output_type": "execute_result"
    }
   ],
   "source": [
    "Df"
   ]
  },
  {
   "cell_type": "code",
   "execution_count": 7,
   "metadata": {},
   "outputs": [],
   "source": [
    "img = np.array(img)\n",
    "args  = np.argwhere(img)\n",
    "args = np.array([(x,y)  for x,y in args])"
   ]
  },
  {
   "cell_type": "code",
   "execution_count": 8,
   "metadata": {},
   "outputs": [],
   "source": [
    "def getIntegralDot2(img, k, _x, _y):\n",
    "    args = np.argwhere(img)\n",
    "    x_sc = img.shape[0]/Nx\n",
    "    y_sc = img.shape[1]/Ny\n",
    "    y = np.exp(-1j * 2* k * np.sqrt(0j +\n",
    "                                    + np.power(args[:,0]*Dx/x_sc - _x, 2)\n",
    "                                    + np.power(args[:,1]*Dy/y_sc - _y, 2)\n",
    "                                    + np.power(Z1, 2)\n",
    "                                   )\n",
    "              )\n",
    "    _img = img[args[:,0], args[:,1]]\n",
    "    _img = _img.reshape(1, _img.shape[0])\n",
    "    _img.shape\n",
    "    return _img.dot(y)"
   ]
  },
  {
   "cell_type": "code",
   "execution_count": 9,
   "metadata": {},
   "outputs": [
    {
     "data": {
      "text/plain": [
       "(-85.59007714165114+275.2511615167897j)"
      ]
     },
     "execution_count": 9,
     "metadata": {},
     "output_type": "execute_result"
    }
   ],
   "source": [
    "getIntegralDot2(img, 2*np.pi*f0 / c, 0,0)[0]"
   ]
  },
  {
   "cell_type": "code",
   "execution_count": 10,
   "metadata": {},
   "outputs": [
    {
     "name": "stdout",
     "output_type": "stream",
     "text": [
      "[0.006      0.01814173 0.03028346 0.0424252  0.05456693 0.06670866\n",
      " 0.07885039 0.09099213 0.10313386 0.11527559 0.12741732 0.13955906\n",
      " 0.15170079 0.16384252 0.17598425 0.18812598 0.20026772 0.21240945\n",
      " 0.22455118 0.23669291 0.24883465 0.26097638 0.27311811 0.28525984\n",
      " 0.29740157 0.30954331 0.32168504 0.33382677 0.3459685  0.35811024\n",
      " 0.37025197 0.3823937  0.39453543 0.40667717 0.4188189  0.43096063\n",
      " 0.44310236 0.45524409 0.46738583 0.47952756 0.49166929 0.50381102\n",
      " 0.51595276 0.52809449 0.54023622 0.55237795 0.56451969 0.57666142\n",
      " 0.58880315 0.60094488 0.61308661 0.62522835 0.63737008 0.64951181\n",
      " 0.66165354 0.67379528 0.68593701 0.69807874 0.71022047 0.7223622\n",
      " 0.73450394 0.74664567 0.7587874  0.77092913 0.78307087 0.7952126\n",
      " 0.80735433 0.81949606 0.8316378  0.84377953 0.85592126 0.86806299\n",
      " 0.88020472 0.89234646 0.90448819 0.91662992 0.92877165 0.94091339\n",
      " 0.95305512 0.96519685 0.97733858 0.98948031 1.00162205 1.01376378\n",
      " 1.02590551 1.03804724 1.05018898 1.06233071 1.07447244 1.08661417\n",
      " 1.09875591 1.11089764 1.12303937 1.1351811  1.14732283 1.15946457\n",
      " 1.1716063  1.18374803 1.19588976 1.2080315  1.22017323 1.23231496\n",
      " 1.24445669 1.25659843 1.26874016 1.28088189 1.29302362 1.30516535\n",
      " 1.31730709 1.32944882 1.34159055 1.35373228 1.36587402 1.37801575\n",
      " 1.39015748 1.40229921 1.41444094 1.42658268 1.43872441 1.45086614\n",
      " 1.46300787 1.47514961 1.48729134 1.49943307 1.5115748  1.52371654\n",
      " 1.53585827 1.548     ]\n"
     ]
    }
   ],
   "source": [
    "n = np.arange(len(args))\n",
    "x = np.linspace(Dx/2, 0 + Dx*(Nx+1), Nx)\n",
    "y = np.linspace(Dx/2, 0 + Dy*(Ny+1), Ny)\n",
    "f = np.linspace(f0, f0 + Df*(N+1), N)\n",
    "print(x)\n",
    "xx,yy,ff = np.meshgrid(x,y,f)\n",
    "def get3D_s(x,y,f):\n",
    "    k = 2*np.pi*f / c;\n",
    "    sum1 = getIntegralDot2(img, k, x,y)    \n",
    "    return sum1;\n",
    "scene = np.vectorize(get3D_s)(xx,yy,ff)"
   ]
  },
  {
   "cell_type": "code",
   "execution_count": 11,
   "metadata": {},
   "outputs": [],
   "source": [
    "scene2 = scene\n",
    "scene_d = {'scene_bgu' : scene2}\n",
    "sc.io.savemat('scene_paper.mat', scene_d)"
   ]
  },
  {
   "cell_type": "code",
   "execution_count": 36,
   "metadata": {
    "scrolled": true
   },
   "outputs": [
    {
     "data": {
      "text/plain": [
       "array([0.20286229, 0.19916123, 0.19760404, 0.19746983, 0.19913734,\n",
       "       0.2034892 , 0.21141561, 0.22346747, 0.23969527, 0.25966978,\n",
       "       0.28261283, 0.30754879, 0.33342881, 0.35922907, 0.38404954,\n",
       "       0.40724599, 0.42862792, 0.44875461, 0.46935531, 0.49386262,\n",
       "       0.52793506, 0.57963076, 0.65872357, 0.77477146, 0.93353245,\n",
       "       1.13021162, 1.33842987, 1.5052011 , 1.57737541, 1.54665216,\n",
       "       1.44851734, 1.32305148, 1.19433199, 1.07244738, 0.96013943,\n",
       "       0.85711613, 0.76207469, 0.67351337, 0.59001457, 0.51032245,\n",
       "       0.43335933, 0.35826208, 0.28453985, 0.21264156, 0.14613708,\n",
       "       0.10071321, 0.11120841, 0.16640103, 0.23000201, 0.28468026,\n",
       "       0.32196906, 0.3398344 , 0.3416848 , 0.33349713, 0.32104168,\n",
       "       0.30859666, 0.2988102 , 0.29299457, 0.29148469, 0.29396901,\n",
       "       0.29977934, 0.30812462, 0.31825791, 0.32958599])"
      ]
     },
     "execution_count": 36,
     "metadata": {},
     "output_type": "execute_result"
    }
   ],
   "source": [
    "abs(scene2[0,0,:])/abs(scene2[61,50,:])"
   ]
  },
  {
   "cell_type": "code",
   "execution_count": 18,
   "metadata": {},
   "outputs": [
    {
     "data": {
      "text/plain": [
       "1.4142135623730951"
      ]
     },
     "execution_count": 18,
     "metadata": {},
     "output_type": "execute_result"
    }
   ],
   "source": []
  },
  {
   "cell_type": "code",
   "execution_count": null,
   "metadata": {},
   "outputs": [],
   "source": []
  }
 ],
 "metadata": {
  "kernelspec": {
   "display_name": "Python 3",
   "language": "python",
   "name": "python3"
  },
  "language_info": {
   "codemirror_mode": {
    "name": "ipython",
    "version": 3
   },
   "file_extension": ".py",
   "mimetype": "text/x-python",
   "name": "python",
   "nbconvert_exporter": "python",
   "pygments_lexer": "ipython3",
   "version": "3.8.2"
  }
 },
 "nbformat": 4,
 "nbformat_minor": 2
}
